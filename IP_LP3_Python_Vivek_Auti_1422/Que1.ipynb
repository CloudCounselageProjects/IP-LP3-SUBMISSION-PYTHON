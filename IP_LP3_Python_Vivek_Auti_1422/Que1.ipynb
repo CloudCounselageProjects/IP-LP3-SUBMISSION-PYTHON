{
 "cells": [
  {
   "cell_type": "markdown",
   "metadata": {},
   "source": [
    "CODING QUESTIONS:1 \n",
    "\n",
    "Read two integers from STDIN and print three lines where \n",
    "    ● The first line contains the sum of the two numbers. \n",
    "\n",
    "    ● The second line contains the difference between the two numbers (first - second). \n",
    "    \n",
    "    ● The third line contains the product of the two numbers. \n",
    "\n",
    "Input Format \n",
    "    \n",
    "    The first line contains the first integer, a. \n",
    "    The second line contains the second integer, b. \n",
    "\n",
    "Output Format : \n",
    "    \n",
    "    Print the three lines as explained above. \n",
    "\n",
    "Sample Input \n",
    "    \n",
    "    3    2 \n",
    "\n",
    "Sample Output  \n",
    "    \n",
    "    5  1   6 "
   ]
  },
  {
   "cell_type": "code",
   "execution_count": 3,
   "metadata": {},
   "outputs": [
    {
     "name": "stdout",
     "output_type": "stream",
     "text": [
      "3\n",
      "2\n",
      "5 1 6\n"
     ]
    }
   ],
   "source": [
    "a = int(input())\n",
    "b = int(input())\n",
    "\n",
    "print(a+b,a-b,a*b)"
   ]
  }
 ],
 "metadata": {
  "kernelspec": {
   "display_name": "Python 3",
   "language": "python",
   "name": "python3"
  },
  "language_info": {
   "codemirror_mode": {
    "name": "ipython",
    "version": 3
   },
   "file_extension": ".py",
   "mimetype": "text/x-python",
   "name": "python",
   "nbconvert_exporter": "python",
   "pygments_lexer": "ipython3",
   "version": "3.7.6"
  }
 },
 "nbformat": 4,
 "nbformat_minor": 4
}
