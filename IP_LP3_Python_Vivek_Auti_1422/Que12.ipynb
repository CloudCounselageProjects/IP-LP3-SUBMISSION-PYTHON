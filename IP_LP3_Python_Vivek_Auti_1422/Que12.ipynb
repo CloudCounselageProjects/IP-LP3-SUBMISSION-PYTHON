{
 "cells": [
  {
   "cell_type": "markdown",
   "metadata": {},
   "source": [
    "'''\n",
    "CODING QUESTIONS:12 \n",
    "Write a Python program to count the number of students of the individual class.  \n",
    "\n",
    "Sample data: \n",
    "\n",
    "classes = ( \n",
    "('V', 1), \n",
    "('VI', 1), \n",
    "('V', 2), \n",
    "('VI', 2), \n",
    "('VI', 3), \n",
    "('VII', 1), \n",
    ")\n",
    "\n",
    "Expected Output: \n",
    "\n",
    "Counter({'VI': 3, '​Example 1:​V': 2, 'VII': 1}) \n",
    "'''"
   ]
  },
  {
   "cell_type": "code",
   "execution_count": 3,
   "metadata": {},
   "outputs": [
    {
     "name": "stdout",
     "output_type": "stream",
     "text": [
      "Counter({'VI': 3, 'V': 2, 'VII': 1})\n"
     ]
    }
   ],
   "source": [
    "from collections import Counter\n",
    "classes = (\n",
    "    ('V', 1),\n",
    "    ('VI', 1),\n",
    "    ('V', 2),\n",
    "    ('VI', 2),\n",
    "    ('VI', 3),\n",
    "    ('VII', 1),\n",
    ")\n",
    "students = Counter(class_name for class_name, no_students in classes)\n",
    "print(students)\n"
   ]
  }
 ],
 "metadata": {
  "kernelspec": {
   "display_name": "Python 3",
   "language": "python",
   "name": "python3"
  },
  "language_info": {
   "codemirror_mode": {
    "name": "ipython",
    "version": 3
   },
   "file_extension": ".py",
   "mimetype": "text/x-python",
   "name": "python",
   "nbconvert_exporter": "python",
   "pygments_lexer": "ipython3",
   "version": "3.7.6"
  }
 },
 "nbformat": 4,
 "nbformat_minor": 4
}
