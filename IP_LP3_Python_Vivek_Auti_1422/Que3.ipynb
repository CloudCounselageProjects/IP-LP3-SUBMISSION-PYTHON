{
 "cells": [
  {
   "cell_type": "markdown",
   "metadata": {},
   "source": [
    "CODING QUESTIONS:3 \n",
    "\n",
    "You are given n-words. Some words may repeat. For each word, output its number of occurrences. The output order should correspond with the input order of the appearance of the word. \n",
    "See the sample input/output for clarification. \n",
    "\n",
    "Constraints\n",
    "\n",
    "1<_n<_10^5 \n",
    "\n",
    "The sum of the lengths of all the words do not exceed ​ 10​6 \n",
    "All the words are composed of lowercase English letters only. \n",
    "\n",
    "\n",
    "Input Format \n",
    "\n",
    "The first line contains the integer,n. \n",
    "\n",
    "The next n lines each contain a word. \n",
    " \n",
    "Output Format\n",
    "\n",
    "Output 2  lines.\n",
    "On the first line, output the number of distinct words from the input. \n",
    "On the second line, output the number of occurrences for each distinct word according to their appearance in the input. \n",
    "\n",
    "Sample Input\n",
    "\n",
    "4 \n",
    "\n",
    "bcdef \n",
    "\n",
    "abcdefg \n",
    "\n",
    "bcde \n",
    "\n",
    "bcdef \n",
    "\n",
    "Sample Output \n",
    "\n",
    "3 \n",
    "\n",
    "2 1 1 "
   ]
  },
  {
   "cell_type": "code",
   "execution_count": 1,
   "metadata": {},
   "outputs": [
    {
     "name": "stdout",
     "output_type": "stream",
     "text": [
      "4\n",
      "bcdef\n",
      "abcdefg\n",
      "bcde\n",
      "bcdef\n",
      "3\n",
      "2 1 1 "
     ]
    }
   ],
   "source": [
    "from collections import OrderedDict\n",
    "\n",
    "if __name__ == \"__main__\":\n",
    "    d = OrderedDict()\n",
    "    n = int(input())\n",
    "    for itr in range(n):\n",
    "        str = input()\n",
    "        if str in d:\n",
    "            d[str] += 1\n",
    "        else:\n",
    "            d[str] = 1\n",
    "    print(len(d))\n",
    "    for elem in d:\n",
    "        print(d[elem], end = \" \")"
   ]
  }
 ],
 "metadata": {
  "kernelspec": {
   "display_name": "Python 3",
   "language": "python",
   "name": "python3"
  },
  "language_info": {
   "codemirror_mode": {
    "name": "ipython",
    "version": 3
   },
   "file_extension": ".py",
   "mimetype": "text/x-python",
   "name": "python",
   "nbconvert_exporter": "python",
   "pygments_lexer": "ipython3",
   "version": "3.7.6"
  }
 },
 "nbformat": 4,
 "nbformat_minor": 4
}
