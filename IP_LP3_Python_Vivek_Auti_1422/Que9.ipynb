{
 "cells": [
  {
   "cell_type": "markdown",
   "metadata": {},
   "source": [
    "CODING QUESTIONS:9 \n",
    "\n",
    "Write a Python program to check whether a given a binary tree is a valid binary search tree (BST) or not.Let a binary search tree (BST) is defined as follows: The left subtree of a node contains only nodes with keys less than the node's key.The right subtree of a node contains only nodes with keys greater than the node's key. \n",
    "Both the left and right subtrees must also be binary search trees. \n",
    "\n",
    "Example 1:     \n",
    "    2 \n",
    "   / \\   \n",
    "  1   3 \n",
    "  \n",
    "Binary tree [2,1,3], return true. \n",
    "\n",
    "Example 2:     \n",
    "    1    \n",
    "   / \\  \n",
    "  2   3 \n",
    "Binary tree [1,2,3], return false. "
   ]
  },
  {
   "cell_type": "code",
   "execution_count": 1,
   "metadata": {},
   "outputs": [
    {
     "name": "stdout",
     "output_type": "stream",
     "text": [
      "True\n",
      "False\n"
     ]
    }
   ],
   "source": [
    "class TreeNode(object):\n",
    "    def __init__(self, x):\n",
    "        self.val = x\n",
    "        self.left = None\n",
    "        self.right = None\n",
    "\n",
    "def is_BST(root):\n",
    "    stack = []\n",
    "    prev = None\n",
    "    \n",
    "    while root or stack:\n",
    "        while root:\n",
    "            stack.append(root)\n",
    "            root = root.left\n",
    "        root = stack.pop()\n",
    "        if prev and root.val <= prev.val:\n",
    "            return False\n",
    "        prev = root\n",
    "        root = root.right\n",
    "    return True\n",
    "\n",
    "root = TreeNode(2)  \n",
    "root.left = TreeNode(1)  \n",
    "root.right = TreeNode(3) \n",
    " \n",
    "result = is_BST(root)\n",
    "print(result)\n",
    "\n",
    "root = TreeNode(1)  \n",
    "root.left = TreeNode(2)  \n",
    "root.right = TreeNode(3) \n",
    " \n",
    "result = is_BST(root)\n",
    "print(result)\n"
   ]
  }
 ],
 "metadata": {
  "kernelspec": {
   "display_name": "Python 3",
   "language": "python",
   "name": "python3"
  },
  "language_info": {
   "codemirror_mode": {
    "name": "ipython",
    "version": 3
   },
   "file_extension": ".py",
   "mimetype": "text/x-python",
   "name": "python",
   "nbconvert_exporter": "python",
   "pygments_lexer": "ipython3",
   "version": "3.7.6"
  }
 },
 "nbformat": 4,
 "nbformat_minor": 4
}
