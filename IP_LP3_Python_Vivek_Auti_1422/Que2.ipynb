{
 "cells": [
  {
   "cell_type": "markdown",
   "metadata": {},
   "source": [
    "CODING QUESTIONS:2\n",
    "   \n",
    "We add a Leap Day on February 29, almost every four years.The leap day is an extra,or intercalary day and we add it to the shortest month of the year, February.In the Gregorian calendar three criteria must be taken into account to identify leap years: \n",
    "    \n",
    "    ● The year can be evenly divided by 4, is a leap year, unless: \n",
    "    \n",
    "    ● The year can be evenly divided by 100, it is NOT a leap year, unless: \n",
    "    \n",
    "    ● The year is also evenly divisible by 400. Then it is a leap year. \n",
    "\n",
    "This means that in the Gregorian calendar, the years 2000 and 2400 are leap years,while 1800, 1900, 2100, 2200, 2300 and 2500 are NOT leap years. \n",
    "\n",
    "Task\n",
    "\n",
    "You are given the year, and you have to write a function to check if the year is a leap or not. \n",
    "\n",
    "Input Format\n",
    "\n",
    "Read y, the year that needs to be checked. \n",
    "\n",
    "Constraints\n",
    "1900<_y<_10 \n",
    "\n",
    "Output Format \n",
    "\n",
    "The output is taken care of by the template. Your function must return a boolean value (True/False) \n",
    "\n",
    "Sample Input  \n",
    "\n",
    "1990 \n",
    " \n",
    "Sample Output  \n",
    "\n",
    "False "
   ]
  },
  {
   "cell_type": "code",
   "execution_count": 2,
   "metadata": {},
   "outputs": [
    {
     "name": "stdout",
     "output_type": "stream",
     "text": [
      "1990\n",
      "False\n"
     ]
    }
   ],
   "source": [
    "def is_leap(year):\n",
    "    leap = False\n",
    "    \n",
    "    if(year%400==0):\n",
    "        leap=True\n",
    "    elif(year%100==0):\n",
    "        leap=False\n",
    "    elif(year%4==0):\n",
    "        leap=True\n",
    "    \n",
    "    return leap\n",
    "\n",
    "year = int(input())\n",
    "print(is_leap(year))"
   ]
  }
 ],
 "metadata": {
  "kernelspec": {
   "display_name": "Python 3",
   "language": "python",
   "name": "python3"
  },
  "language_info": {
   "codemirror_mode": {
    "name": "ipython",
    "version": 3
   },
   "file_extension": ".py",
   "mimetype": "text/x-python",
   "name": "python",
   "nbconvert_exporter": "python",
   "pygments_lexer": "ipython3",
   "version": "3.7.6"
  }
 },
 "nbformat": 4,
 "nbformat_minor": 4
}
