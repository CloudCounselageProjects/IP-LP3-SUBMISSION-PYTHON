{
 "cells": [
  {
   "cell_type": "markdown",
   "metadata": {},
   "source": [
    "'''\n",
    "CODING QUESTIONS:6 \n",
    "\n",
    "Given a matrix of size m*n, m denotes the row starting with index 0 and n denotes the column starting with index 0. \n",
    "The matrix will hold distinct integers as elements. \n",
    "We need to find a distinct number of positional elements which are either the minimum or maximum in their corresponding row or column. \n",
    "Please return -1 if any row or any column has multiple minimum or maximum elements. \n",
    "\n",
    "For example, given a matrix of size 3*3, the elements are stored as follows. \n",
    "1  3  4 5  2  9 \n",
    "8  7  6 \n",
    "\n",
    "The expected output is 7. \n",
    "\n",
    "In the above example, we identified the output as 7 based on below. \n",
    "1 - minimum in row and column 4 - Maximum in row 2 - Minimum in column and row 9 - Maximum in row and column 8 - Maximum in row and column 7 - Maximum in column \n",
    "6 - Minimum in row \n",
    "\n",
    "Input: \n",
    "\n",
    "m - integer - number of rows \n",
    "n - integer - number of columns \n",
    "m * n matrix \n",
    "\n",
    "Output: \n",
    "\n",
    "r - integer - result \n",
    "Constraints: 0<m,n<100 \n",
    "Elements in the matrix are positive integers. \n",
    "'''"
   ]
  },
  {
   "cell_type": "code",
   "execution_count": 1,
   "metadata": {},
   "outputs": [
    {
     "name": "stdout",
     "output_type": "stream",
     "text": [
      "7\n"
     ]
    }
   ],
   "source": [
    "import math\n",
    "import os\n",
    "import random\n",
    "import re\n",
    "import sys\n",
    "  \n",
    "  \n",
    "def countElements(matrix):\n",
    "  nRows= len(matrix)\n",
    "  nCount=0\n",
    "  \n",
    "  for row in matrix:\n",
    "    for indexCol, element in enumerate(row):\n",
    "  \n",
    "      if element==min(row) or element==max(row):\n",
    "        if row.count(element)>1:\n",
    "          return -1\n",
    "        nCount=nCount+1\n",
    "  \n",
    "      else:\n",
    "        listColumn=[]\n",
    "  \n",
    "        for indexRow in range(0, nRows):\n",
    "          listColumn.append(matrix[indexRow][indexCol])\n",
    "  \n",
    "        if element==min(listColumn) or element==max(listColumn):\n",
    "          if listColumn.count(element)>1:\n",
    "            return -1\n",
    "          nCount=nCount+1\n",
    " \n",
    "  return nCount\n",
    "  \n",
    "if __name__ == '__main__':\n",
    "  nCount = countElements([[1, 3, 4],[5, 2, 9],[8, 7, 6]])\n",
    "  print(nCount)"
   ]
  }
 ],
 "metadata": {
  "kernelspec": {
   "display_name": "Python 3",
   "language": "python",
   "name": "python3"
  },
  "language_info": {
   "codemirror_mode": {
    "name": "ipython",
    "version": 3
   },
   "file_extension": ".py",
   "mimetype": "text/x-python",
   "name": "python",
   "nbconvert_exporter": "python",
   "pygments_lexer": "ipython3",
   "version": "3.7.6"
  }
 },
 "nbformat": 4,
 "nbformat_minor": 4
}
