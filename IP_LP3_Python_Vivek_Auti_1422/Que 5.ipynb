{
 "cells": [
  {
   "cell_type": "markdown",
   "metadata": {},
   "source": [
    "'''\n",
    "CODING QUESTIONS:5 \n",
    "\n",
    "You have given a string. You need to remove all the duplicates from the string. \n",
    "The final output string should contain each character only once.The respective order of the characters inside the string should remain the same. You can only traverse the string at once. \n",
    "\n",
    "Input string:  \n",
    "ababacd \n",
    "\n",
    "Output string:  \n",
    "Abcd \n",
    "'''"
   ]
  },
  {
   "cell_type": "code",
   "execution_count": 3,
   "metadata": {},
   "outputs": [
    {
     "name": "stdout",
     "output_type": "stream",
     "text": [
      "abcdabcd\n",
      "abcd\n"
     ]
    }
   ],
   "source": [
    "def rmvduplicate(str, n): \n",
    "\tindex = 0 \n",
    "\tfor i in range(0, n): \n",
    "\t\tfor j in range(0, i + 1): \n",
    "\t\t\tif (str[i] == str[j]): \n",
    "\t\t\t\tbreak\n",
    "\t\tif (j == i): \n",
    "\t\t\tstr[index] = str[i] \n",
    "\t\t\tindex += 1\n",
    "\t\t\t\n",
    "\treturn \"\".join(str[:index]) \n",
    "\n",
    "str= input()\n",
    "n = len(str) \n",
    "print(rmvduplicate(list(str), n)) "
   ]
  },
  {
   "cell_type": "code",
   "execution_count": null,
   "metadata": {},
   "outputs": [],
   "source": []
  }
 ],
 "metadata": {
  "kernelspec": {
   "display_name": "Python 3",
   "language": "python",
   "name": "python3"
  },
  "language_info": {
   "codemirror_mode": {
    "name": "ipython",
    "version": 3
   },
   "file_extension": ".py",
   "mimetype": "text/x-python",
   "name": "python",
   "nbconvert_exporter": "python",
   "pygments_lexer": "ipython3",
   "version": "3.7.6"
  }
 },
 "nbformat": 4,
 "nbformat_minor": 4
}
