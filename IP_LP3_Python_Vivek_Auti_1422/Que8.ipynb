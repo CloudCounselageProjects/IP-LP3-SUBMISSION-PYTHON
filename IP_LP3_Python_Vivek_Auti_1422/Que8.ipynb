{
 "cells": [
  {
   "cell_type": "markdown",
   "metadata": {},
   "source": [
    "CODING QUESTIONS:8 \n",
    "\n",
    "Write a Python program to calculate the sum of the positive integers of n+(n-2)+(n-4)... \n",
    "\n",
    "(until n-x =< 0).  \n",
    "\n",
    "Test Data: \n",
    "\n",
    "sum_series(6) -> 12 sum_series(10) -> 30 \n",
    " "
   ]
  },
  {
   "cell_type": "code",
   "execution_count": 1,
   "metadata": {},
   "outputs": [
    {
     "name": "stdout",
     "output_type": "stream",
     "text": [
      "12\n",
      "30\n"
     ]
    }
   ],
   "source": [
    "def sum_series(n):\n",
    "    if n < 1:\n",
    "        return 0\n",
    "    else:\n",
    "        return n + sum_series(n - 2)\n",
    "    \n",
    "print(sum_series(6))\n",
    "print(sum_series(10))\n"
   ]
  }
 ],
 "metadata": {
  "kernelspec": {
   "display_name": "Python 3",
   "language": "python",
   "name": "python3"
  },
  "language_info": {
   "codemirror_mode": {
    "name": "ipython",
    "version": 3
   },
   "file_extension": ".py",
   "mimetype": "text/x-python",
   "name": "python",
   "nbconvert_exporter": "python",
   "pygments_lexer": "ipython3",
   "version": "3.7.6"
  }
 },
 "nbformat": 4,
 "nbformat_minor": 4
}
