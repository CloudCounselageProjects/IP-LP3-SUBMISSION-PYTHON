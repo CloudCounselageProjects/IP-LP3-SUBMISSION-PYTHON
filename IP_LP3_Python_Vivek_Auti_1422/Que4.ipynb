{
 "cells": [
  {
   "cell_type": "markdown",
   "metadata": {},
   "source": [
    "CODING QUESTIONS:4 \n",
    "\n",
    "Little Robert likes mathematics.Today his teacher has given him two integers and asked to find out how many integers can divide both the numbers. \n",
    "Would you like to help him in completing his school assignment? \n",
    "\n",
    "Input Format :\n",
    "\n",
    "There are two integers, a and b as input to the program. \n",
    "\n",
    "Output Format: \n",
    "\n",
    "Print the number of common factors of a and b. Both the input value should be in a range of 1 to 10^12. \n",
    "\n",
    "Input:  \n",
    "10  \n",
    "15 \n",
    "\n",
    "Output: \n",
    "2 "
   ]
  },
  {
   "cell_type": "code",
   "execution_count": 2,
   "metadata": {},
   "outputs": [
    {
     "name": "stdout",
     "output_type": "stream",
     "text": [
      "10 15\n",
      "2\n"
     ]
    }
   ],
   "source": [
    "data  = input().split()\n",
    "\n",
    "a = int(data[0])\n",
    "b = int(data[1])\n",
    " \n",
    "def gcd(a, b):\n",
    "    if (a == 0): \n",
    "        return b\n",
    "    return gcd(b%a, a)\n",
    " \n",
    "if (a>0 and a<(10**12+1) and b>=1 and b<(10**12+1)):\n",
    "    count = 1\n",
    "    for i in range(2, gcd(a, b)+1):\n",
    "        if a%i==0 and b%i==0:\n",
    "            count = count+1\n",
    "    print(count)"
   ]
  }
 ],
 "metadata": {
  "kernelspec": {
   "display_name": "Python 3",
   "language": "python",
   "name": "python3"
  },
  "language_info": {
   "codemirror_mode": {
    "name": "ipython",
    "version": 3
   },
   "file_extension": ".py",
   "mimetype": "text/x-python",
   "name": "python",
   "nbconvert_exporter": "python",
   "pygments_lexer": "ipython3",
   "version": "3.7.6"
  }
 },
 "nbformat": 4,
 "nbformat_minor": 4
}
