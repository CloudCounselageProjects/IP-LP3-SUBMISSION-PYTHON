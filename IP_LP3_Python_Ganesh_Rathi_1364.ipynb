{
 "cells": [
  {
   "cell_type": "markdown",
   "metadata": {},
   "source": [
    "CODING QUESTIONS:​1\n",
    "\n",
    "Read two integers from STDIN and print three lines where: ● The first line contains the sum of the two numbers. ● The second line contains the difference between the two numbers (first - second). ● The third line contains the product of the two numbers. \n",
    "Input Format \n",
    "The first line contains the first integer, a. The second line contains the second integer, b. Constraints 1<_a<_10​10 1<_b<_10​10 Output Format Print the three lines as explained above. Sample Input 3    2 Sample Output  5  1   6 \n",
    "\n",
    "\n",
    "\n",
    "\n",
    "CODING QUESTIONS:2 \n",
    " \n",
    "We add a Leap Day on February 29, almost every four years. The leap day is an extra,                  or intercalary day and we add it to the shortest month of the year, February. In the Gregorian calendar three criteria must be taken into account to identify leap              years: ● The year can be evenly divided by 4, is a leap year, unless: ● The year can be evenly divided by 100, it is NOT a leap year, unless: ● The year is also evenly divisible by 400. Then it is a leap year. This means that in the Gregorian calendar, the years 2000 and 2400 are leap years,               while 1800, 1900, 2100, 2200, 2300 and 2500 are NOT leap years. Task You are given the year, and you have to write a function to check if the year is a leap or not. Input Format Read y, the year that needs to be checked. Constraints 1900<_y<_10 Output Format The output is taken care of by the template. Your function must return a boolean value (True/False) Sample Input  1990 \n",
    " \n",
    "Sample Output  False \n",
    " \n",
    " \n",
    "\n",
    " \n",
    "\n",
    "CODING QUESTIONS:3 \n",
    "\n",
    "\n",
    "You are given n-words. Some words may repeat. For each word, output its number of               occurrences. The output order should correspond with the input order of the            appearance of the word. See the sample input/output for clarification. \n",
    "Constraints \n",
    "1<_n<_10​5 The sum of the lengths of all the words do not exceed ​ 10​6 All the words are composed of lowercase English letters only. \n",
    "Input Format \n",
    "The first line contains the integer,n. The next n lines each contain a word. \n",
    " \n",
    "Output Format Output 2  lines. On the first line, output the number of distinct words from the input. On the second line, output the number of occurrences for each distinct word according to their appearance in the input. Sample Input 4 bcdef abcdefg bcde bcdef Sample Output 3 2 1 1 \n",
    " \n",
    "\n",
    " \n",
    " \n",
    "CODING QUESTIONS:4 \n",
    "\n",
    "\n",
    "Little Robert likes mathematics. Today his teacher has given him two integers and             asked to find out how many integers can divide both the numbers. Would you like to                help him in completing his school assignment? \n",
    "Input Format : \n",
    "There are two integers, a and b as input to the program. \n",
    "Output Format: \n",
    " Print the number of common factors of a and b. Both the input value should be in a range of 1 to 10^12. \n",
    "Input:  10  15 \n",
    "Output: \n",
    " 2 \n",
    " \n",
    " \n",
    " \n",
    "CODING QUESTIONS:5\n",
    "\n",
    "\n",
    "\n",
    "You have given a string. You need to remove all the duplicates from the string. \n",
    "The final output string should contain each character only once. The respective order of              the characters inside the string should remain the same. You can only traverse the              string at once. \n",
    "Input string:  \n",
    "ababacd \n",
    "Output string:  \n",
    "Abcd \n",
    " \n",
    " \n",
    " \n",
    "CODING QUESTIONS:6 \n",
    "\n",
    "\n",
    "Write a Python program to find the first appearance of the substring 'not' and 'poor' from a given string, if 'not' follows the 'poor', replace the whole 'not'...' poor' substring with 'good'. Return the resulting string. Sample String :  ​'The lyrics is not that poor!' 'The lyrics is poor!' \n",
    "Expected Result :  'The lyrics is good!' 'The lyrics is poor!'\n",
    "\n",
    "\n",
    " \n",
    "CODING QUESTIONS:7 \n",
    "\n",
    " \n",
    " ​Write a Python program to convert temperatures to and from celsius, Fahrenheit.\n",
    " [ Formula : c/5 = f-32/9 [ where c = temperature in celsius and f = temperature in Fahrenheit ] \n",
    " Expected Output : 60°C is 140 in Fahrenheit 45°F is 7 in Celsius \n",
    " \n",
    "CODING QUESTIONS:8 \n",
    "\n",
    "Write a Python program to calculate the sum of the positive integers of n+(n-2)+(n-4)... \n",
    "(until n-x =< 0).  \n",
    "Test Data: sum_series(6) -> 12 sum_series(10) -> 30 \n",
    "\n",
    "\n",
    "\n",
    "CODING QUESTIONS:9 \n",
    "\n",
    "Write a Python program to check whether a given a binary tree is a valid binary search                 tree (BST) or not.  \n",
    "Let a binary search tree (BST) is defined as follows: The left subtree of a node contains only nodes with keys less than the node's key. \n",
    "The right subtree of a node contains only nodes with keys greater than the node's key. \n",
    "Both the left and right subtrees must also be binary search trees. \n",
    "Example 1:     2 \n",
    "   / \\   1   3 Binary tree [2,1,3], return true. \n",
    " \n",
    "Example 2:     1    / \\   2   3 Binary tree [1,2,3], return false. \n",
    " \n",
    " \n",
    "CODING QUESTIONS:10 \n",
    "\n",
    "Write a Python program to sort a list of elements using the selection sort algorithm.  Note: The selection sort improves on the bubble sort by making only one exchange for               every pass through the list.  Sample Data:  [14,46,43,27,57,41,45,21,70] Expected Result: \n",
    " [14, 21, 27, 41, 43, 45, 46, 57, 70] \n",
    " \n",
    " \n",
    "CODING QUESTIONS:\n",
    "\n",
    "11 Write a Python program to get a week number.  \n",
    "Sample Date : \n",
    " 2015, 6, 16 \n",
    "Expected Output :  \n",
    "25 \n",
    " \n",
    " \n",
    "CODING QUESTIONS:\n",
    "\n",
    "12 Write a Python program to count the number of students of the individual class.  \n",
    "Sample data: \n",
    "classes = ( ('V', 1), ('VI', 1), ('V', 2), ('VI', 2), ('VI', 3), ('VII', 1), ) Expected Output: \n",
    "Counter({'VI': 3, '​Example 1:​V': 2, 'VII': 1}) "
   ]
  },
  {
   "cell_type": "code",
   "execution_count": 25,
   "metadata": {},
   "outputs": [
    {
     "name": "stdout",
     "output_type": "stream",
     "text": [
      "3\n",
      "2\n",
      "--------------------------\n",
      "5\n",
      "1\n",
      "6\n"
     ]
    }
   ],
   "source": [
    "\n",
    "a = int(input())                         \n",
    "b = int(input())\n",
    "\n",
    "if 1<=a<=10**10 and 1<=b<=10**10:        \n",
    " sum = a+b\n",
    " difference = a-b\n",
    " product = a*b\n",
    " print (\"--------------------------\")\n",
    " print (sum)                             \n",
    " print (difference)                       \n",
    " print (product)"
   ]
  },
  {
   "cell_type": "markdown",
   "metadata": {},
   "source": []
  },
  {
   "cell_type": "code",
   "execution_count": 30,
   "metadata": {},
   "outputs": [
    {
     "name": "stdout",
     "output_type": "stream",
     "text": [
      "1990\n",
      "False\n"
     ]
    }
   ],
   "source": [
    "def is_leap(year):\n",
    "    leap = False\n",
    "    \n",
    "    # Write your logic here\n",
    "    if year % 400 == 0:\n",
    "        leap = True\n",
    "    elif year % 100 == 0:\n",
    "        leap = False\n",
    "    elif year % 4 == 0:\n",
    "        leap = True\n",
    "    \n",
    "    return leap\n",
    "    \n",
    "year = int(input())\n",
    "print (is_leap(year))"
   ]
  },
  {
   "cell_type": "code",
   "execution_count": 31,
   "metadata": {},
   "outputs": [
    {
     "name": "stdout",
     "output_type": "stream",
     "text": [
      "4\n",
      "bcdef\n",
      "abcdefg\n",
      "bcde\n",
      "bcdef\n",
      "3\n",
      "2 1 1\n"
     ]
    }
   ],
   "source": [
    "from collections import OrderedDict\n",
    "words = OrderedDict()\n",
    "\n",
    "for _ in range(int(input())):\n",
    "    word = input()\n",
    "    words.setdefault(word, 0)\n",
    "    words[word] += 1\n",
    "   \n",
    "print(len(words))\n",
    "print(*words.values())"
   ]
  },
  {
   "cell_type": "code",
   "execution_count": null,
   "metadata": {},
   "outputs": [],
   "source": []
  },
  {
   "cell_type": "code",
   "execution_count": 42,
   "metadata": {},
   "outputs": [
    {
     "name": "stdout",
     "output_type": "stream",
     "text": [
      "abcd\n"
     ]
    }
   ],
   "source": [
    "\n",
    "\n",
    "def dupRem(str, n): \n",
    "      \n",
    "   \n",
    "    index = 0\n",
    "\n",
    "    for i in range(0, n): \n",
    "\n",
    "        for j in range(0, i + 1): \n",
    "            if (str[i] == str[j]): \n",
    "                break\n",
    "\n",
    "        if (j == i): \n",
    "            str[index] = str[i] \n",
    "            index += 1\n",
    "              \n",
    "    return \"\".join(str[:index]) \n",
    "\n",
    "str= \"ababacd\"\n",
    "n = len(str) \n",
    "print(dupRem(list(str), n))"
   ]
  },
  {
   "cell_type": "code",
   "execution_count": 37,
   "metadata": {},
   "outputs": [
    {
     "name": "stdout",
     "output_type": "stream",
     "text": [
      "7\n"
     ]
    }
   ],
   "source": []
  },
  {
   "cell_type": "code",
   "execution_count": 11,
   "metadata": {},
   "outputs": [
    {
     "name": "stdout",
     "output_type": "stream",
     "text": [
      "The lyrics is good!\n",
      "The lyrics is poor!\n"
     ]
    }
   ],
   "source": [
    "def not_poor(str1):\n",
    "  snot = str1.find('not')\n",
    "  spoor = str1.find('poor')\n",
    "  \n",
    "\n",
    "  if spoor > snot and snot>0 and spoor>0:\n",
    "    str1 = str1.replace(str1[snot:(spoor+4)], 'good')\n",
    "    return str1\n",
    "  else:\n",
    "    return str1\n",
    "print(not_poor('The lyrics is not that poor!'))\n",
    "print(not_poor('The lyrics is poor!'))"
   ]
  },
  {
   "cell_type": "code",
   "execution_count": null,
   "metadata": {},
   "outputs": [],
   "source": []
  },
  {
   "cell_type": "code",
   "execution_count": 10,
   "metadata": {},
   "outputs": [
    {
     "name": "stdout",
     "output_type": "stream",
     "text": [
      "Enter temperature in celsius: 25\n",
      "25.00 Celsius is: 77.00 Fahrenheit\n"
     ]
    }
   ],
   "source": [
    "celsius = float(input(\"Enter temperature in celsius: \"))\n",
    "fahrenheit = (celsius * 9/5) + 32\n",
    "print('%.2f Celsius is: %0.2f Fahrenheit' %(celsius, fahrenheit))\n",
    "\n"
   ]
  },
  {
   "cell_type": "code",
   "execution_count": 9,
   "metadata": {},
   "outputs": [
    {
     "name": "stdout",
     "output_type": "stream",
     "text": [
      "12\n",
      "30\n"
     ]
    }
   ],
   "source": [
    "def sum_series(n):\n",
    "  if n < 1:\n",
    "    return 0\n",
    "  else:\n",
    "    return n + sum_series(n - 2)\n",
    "\n",
    "print(sum_series(6))\n",
    "print(sum_series(10))\n"
   ]
  },
  {
   "cell_type": "code",
   "execution_count": 8,
   "metadata": {},
   "outputs": [
    {
     "name": "stdout",
     "output_type": "stream",
     "text": [
      "True\n",
      "False\n"
     ]
    }
   ],
   "source": [
    "class TreeNode(object):\n",
    "    def __init__(self, x):\n",
    "        self.val = x\n",
    "        self.left = None\n",
    "        self.right = None\n",
    "\n",
    "def is_BST(root):\n",
    "    stack = []\n",
    "    prev = None\n",
    "    \n",
    "    while root or stack:\n",
    "        while root:\n",
    "            stack.append(root)\n",
    "            root = root.left\n",
    "        root = stack.pop()\n",
    "        if prev and root.val <= prev.val:\n",
    "            return False\n",
    "        prev = root\n",
    "        root = root.right\n",
    "    return True\n",
    "\n",
    "root = TreeNode(2)  \n",
    "root.left = TreeNode(1)  \n",
    "root.right = TreeNode(3) \n",
    " \n",
    "result = is_BST(root)\n",
    "print(result)\n",
    "\n",
    "root = TreeNode(1)  \n",
    "root.left = TreeNode(2)  \n",
    "root.right = TreeNode(3) \n",
    " \n",
    "result = is_BST(root)\n",
    "print(result)"
   ]
  },
  {
   "cell_type": "code",
   "execution_count": 7,
   "metadata": {},
   "outputs": [
    {
     "name": "stdout",
     "output_type": "stream",
     "text": [
      "[14, 21, 27, 41, 43, 45, 46, 57, 70]\n"
     ]
    }
   ],
   "source": [
    "def selectionSort(nlist):\n",
    "   for fillslot in range(len(nlist)-1,0,-1):\n",
    "       maxpos=0\n",
    "       for location in range(1,fillslot+1):\n",
    "           if nlist[location]>nlist[maxpos]:\n",
    "               maxpos = location\n",
    "\n",
    "       temp = nlist[fillslot]\n",
    "       nlist[fillslot] = nlist[maxpos]\n",
    "       nlist[maxpos] = temp\n",
    "\n",
    "nlist = [14,46,43,27,57,41,45,21,70]\n",
    "selectionSort(nlist)\n",
    "print(nlist)"
   ]
  },
  {
   "cell_type": "code",
   "execution_count": 43,
   "metadata": {},
   "outputs": [
    {
     "name": "stdout",
     "output_type": "stream",
     "text": [
      "25\n"
     ]
    }
   ],
   "source": [
    "import datetime\n",
    "print(datetime.date(2015, 6, 16).isocalendar()[1])\n"
   ]
  },
  {
   "cell_type": "code",
   "execution_count": 6,
   "metadata": {},
   "outputs": [
    {
     "name": "stdout",
     "output_type": "stream",
     "text": [
      "Counter({'VI': 3, 'V': 2, 'VII': 1})\n"
     ]
    }
   ],
   "source": [
    "from collections import Counter\n",
    "classes = (\n",
    "    ('V', 1),\n",
    "    ('VI', 1),\n",
    "    ('V', 2),\n",
    "    ('VI', 2),\n",
    "    ('VI', 3),\n",
    "    ('VII', 1),\n",
    ")\n",
    "students = Counter(class_name for class_name, no_students in classes)\n",
    "print(students)"
   ]
  }
 ],
 "metadata": {
  "kernelspec": {
   "display_name": "Python 3",
   "language": "python",
   "name": "python3"
  },
  "language_info": {
   "codemirror_mode": {
    "name": "ipython",
    "version": 3
   },
   "file_extension": ".py",
   "mimetype": "text/x-python",
   "name": "python",
   "nbconvert_exporter": "python",
   "pygments_lexer": "ipython3",
   "version": "3.7.3"
  }
 },
 "nbformat": 4,
 "nbformat_minor": 2
}
